{
 "cells": [
  {
   "cell_type": "code",
   "execution_count": 2,
   "metadata": {},
   "outputs": [],
   "source": [
    "from pyspark.sql import SparkSession\n",
    "from pyspark.ml.evaluation import RegressionEvaluator\n",
    "from pyspark.ml.recommendation import ALS\n",
    "from pyspark.ml.tuning import ParamGridBuilder, CrossValidator\n",
    "from pyspark.ml.feature import VectorAssembler\n",
    "from pyspark.sql.functions import col, exp, lit, expr, array, size, when, array_intersect\n",
    "from pyspark.sql.types import IntegerType\n"
   ]
  },
  {
   "cell_type": "code",
   "execution_count": 3,
   "metadata": {},
   "outputs": [
    {
     "name": "stderr",
     "output_type": "stream",
     "text": [
      "24/11/26 19:08:54 WARN Utils: Your hostname, MacBook-Air-Nasdorm.local resolves to a loopback address: 127.0.0.1; using 192.168.186.71 instead (on interface en0)\n",
      "24/11/26 19:08:54 WARN Utils: Set SPARK_LOCAL_IP if you need to bind to another address\n",
      "Setting default log level to \"WARN\".\n",
      "To adjust logging level use sc.setLogLevel(newLevel). For SparkR, use setLogLevel(newLevel).\n",
      "24/11/26 19:08:54 WARN NativeCodeLoader: Unable to load native-hadoop library for your platform... using builtin-java classes where applicable\n"
     ]
    }
   ],
   "source": [
    "spark = SparkSession.builder.appName(\"MovieLensALS\").getOrCreate()\n",
    "\n",
    "data_path = '../data/ml-100k/u.data'\n",
    "columns = [\"userId\", \"movieId\", \"rating\", \"timestamp\"]\n",
    "ratings = spark.read.csv(data_path, sep=\"\\t\", inferSchema=True).toDF(*columns)\n",
    "\n",
    "\n",
    "ratings = ratings.withColumn(\"userId\", col(\"userId\").cast(IntegerType()))\n",
    "ratings = ratings.withColumn(\"movieId\", col(\"movieId\").cast(IntegerType()))\n",
    "\n",
    "max_timestamp = ratings.agg({'timestamp': 'max'}).collect()[0][0]\n",
    "ratings = ratings.withColumn('weight', exp(-(lit(max_timestamp) - col('timestamp')) / lit(10**6)))"
   ]
  },
  {
   "cell_type": "code",
   "execution_count": 4,
   "metadata": {},
   "outputs": [
    {
     "name": "stdout",
     "output_type": "stream",
     "text": [
      "+-------+-----------------+------------+------------------+--------------------+-------+------+---------+---------+----------+------+-----+-----------+-----+-------+---------+------+-------+-------+-------+------+--------+---+-------+\n",
      "|movieId|            title|release_date|video_release_date|            imdb_url|unknown|Action|Adventure|Animation|Children's|Comedy|Crime|Documentary|Drama|Fantasy|Film-Noir|Horror|Musical|Mystery|Romance|Sci-Fi|Thriller|War|Western|\n",
      "+-------+-----------------+------------+------------------+--------------------+-------+------+---------+---------+----------+------+-----+-----------+-----+-------+---------+------+-------+-------+-------+------+--------+---+-------+\n",
      "|      1| Toy Story (1995)| 01-Jan-1995|              NULL|http://us.imdb.co...|      0|     0|        0|        1|         1|     1|    0|          0|    0|      0|        0|     0|      0|      0|      0|     0|       0|  0|      0|\n",
      "|      2| GoldenEye (1995)| 01-Jan-1995|              NULL|http://us.imdb.co...|      0|     1|        1|        0|         0|     0|    0|          0|    0|      0|        0|     0|      0|      0|      0|     0|       1|  0|      0|\n",
      "|      3|Four Rooms (1995)| 01-Jan-1995|              NULL|http://us.imdb.co...|      0|     0|        0|        0|         0|     0|    0|          0|    0|      0|        0|     0|      0|      0|      0|     0|       1|  0|      0|\n",
      "|      4|Get Shorty (1995)| 01-Jan-1995|              NULL|http://us.imdb.co...|      0|     1|        0|        0|         0|     1|    0|          0|    1|      0|        0|     0|      0|      0|      0|     0|       0|  0|      0|\n",
      "|      5|   Copycat (1995)| 01-Jan-1995|              NULL|http://us.imdb.co...|      0|     0|        0|        0|         0|     0|    1|          0|    1|      0|        0|     0|      0|      0|      0|     0|       1|  0|      0|\n",
      "+-------+-----------------+------------+------------------+--------------------+-------+------+---------+---------+----------+------+-----+-----------+-----+-------+---------+------+-------+-------+-------+------+--------+---+-------+\n",
      "only showing top 5 rows\n",
      "\n"
     ]
    }
   ],
   "source": [
    "# Пути к данным\n",
    "movies_path = '../data/ml-100k/u.item'\n",
    "\n",
    "# Определяем имена колонок\n",
    "movies_columns = [\n",
    "    \"movieId\", \"title\", \"release_date\", \"video_release_date\", \"imdb_url\",\n",
    "    \"unknown\", \"Action\", \"Adventure\", \"Animation\", \"Children's\", \"Comedy\", \"Crime\", \"Documentary\", \"Drama\", \"Fantasy\",\n",
    "    \"Film-Noir\", \"Horror\", \"Musical\", \"Mystery\", \"Romance\", \"Sci-Fi\", \"Thriller\", \"War\", \"Western\"\n",
    "]\n",
    "\n",
    "# Чтение данных\n",
    "movies = spark.read.csv(movies_path, sep=\"|\", inferSchema=True).toDF(*movies_columns)\n",
    "\n",
    "# Убедимся, что данные загружены корректно\n",
    "movies.show(5)\n"
   ]
  },
  {
   "cell_type": "code",
   "execution_count": 5,
   "metadata": {},
   "outputs": [
    {
     "name": "stdout",
     "output_type": "stream",
     "text": [
      "+------+-----+\n",
      "|userId|count|\n",
      "+------+-----+\n",
      "|   405|  737|\n",
      "|   655|  685|\n",
      "|    13|  636|\n",
      "|   450|  540|\n",
      "|   276|  518|\n",
      "+------+-----+\n",
      "only showing top 5 rows\n",
      "\n",
      "+-------+-----+\n",
      "|movieId|count|\n",
      "+-------+-----+\n",
      "|     50|  583|\n",
      "|    258|  509|\n",
      "|    100|  508|\n",
      "|    181|  507|\n",
      "|    294|  485|\n",
      "+-------+-----+\n",
      "only showing top 5 rows\n",
      "\n",
      "Количество записей после фильтрации: 99287\n",
      "+-------+------+------+---------+--------------------+\n",
      "|movieId|userId|rating|timestamp|              weight|\n",
      "+-------+------+------+---------+--------------------+\n",
      "|    242|   196|     3|881250949|5.928798377342577E-6|\n",
      "|    302|   186|     3|891717742| 0.20827499106941064|\n",
      "|    377|    22|     1|878887116|5.576568655535087E-7|\n",
      "|     51|   244|     2|880606923|3.113649646606838E-6|\n",
      "|    346|   166|     1|886397596|0.001018889469706...|\n",
      "+-------+------+------+---------+--------------------+\n",
      "only showing top 5 rows\n",
      "\n"
     ]
    }
   ],
   "source": [
    "user_activity = ratings.groupBy(\"userId\").count()\n",
    "user_activity.orderBy(\"count\", ascending=False).show(5)\n",
    "\n",
    "movie_popularity = ratings.groupBy(\"movieId\").count()\n",
    "movie_popularity.orderBy(\"count\", ascending=False).show(5)\n",
    "\n",
    "\n",
    "active_users = user_activity.filter(col(\"count\") >= 5).select(\"userId\")\n",
    "filtered_ratings = ratings.join(active_users, on=\"userId\", how=\"inner\")\n",
    "\n",
    "popular_movies = movie_popularity.filter(col(\"count\") >= 5).select(\"movieId\")\n",
    "filtered_ratings = filtered_ratings.join(popular_movies, on=\"movieId\", how=\"inner\")\n",
    "\n",
    "\n",
    "print(f\"Количество записей после фильтрации: {filtered_ratings.count()}\")\n",
    "filtered_ratings.show(5)\n",
    "\n"
   ]
  },
  {
   "cell_type": "code",
   "execution_count": 6,
   "metadata": {},
   "outputs": [],
   "source": [
    "avg_ratings = filtered_ratings.groupBy(\"userId\").avg(\"rating\").withColumnRenamed(\"avg(rating)\", \"avg_user_rating\")\n",
    "normalized_ratings = filtered_ratings.join(avg_ratings, on=\"userId\")\n",
    "normalized_ratings = normalized_ratings.withColumn(\"normalized_rating\", col(\"rating\") - col(\"avg_user_rating\"))\n"
   ]
  },
  {
   "cell_type": "code",
   "execution_count": 7,
   "metadata": {},
   "outputs": [
    {
     "name": "stderr",
     "output_type": "stream",
     "text": [
      "24/11/26 19:09:01 WARN InstanceBuilder: Failed to load implementation from:dev.ludovic.netlib.blas.JNIBLAS\n",
      "24/11/26 19:09:01 WARN InstanceBuilder: Failed to load implementation from:dev.ludovic.netlib.blas.VectorBLAS\n",
      "24/11/26 19:09:02 WARN InstanceBuilder: Failed to load implementation from:dev.ludovic.netlib.lapack.JNILAPACK\n",
      "24/11/26 19:09:06 WARN GarbageCollectionMetrics: To enable non-built-in garbage collector(s) List(G1 Concurrent GC), users should configure it(them) to spark.eventLog.gcMetrics.youngGenerationGarbageCollectors or spark.eventLog.gcMetrics.oldGenerationGarbageCollectors\n"
     ]
    },
    {
     "name": "stdout",
     "output_type": "stream",
     "text": [
      "Лучший ранг: 30\n",
      "Лучший параметр регуляризации: 0.1\n",
      "Лучшее число итераций: 15\n",
      "Root-mean-square error: 0.9138607026034773\n"
     ]
    }
   ],
   "source": [
    "from pyspark.ml.tuning import ParamGridBuilder, CrossValidator\n",
    "from pyspark.ml.evaluation import RegressionEvaluator\n",
    "\n",
    "# Split data into training and testing sets\n",
    "(train_data, test_data) = normalized_ratings.randomSplit([0.8, 0.2], seed=42)\n",
    "\n",
    "# Build ALS model\n",
    "als = ALS(\n",
    "    userCol=\"userId\",\n",
    "    itemCol=\"movieId\",\n",
    "    ratingCol=\"rating\",\n",
    "    coldStartStrategy=\"drop\"\n",
    ")\n",
    "\n",
    "# Define parameter grid for hyperparameter tuning\n",
    "paramGrid = ParamGridBuilder() \\\n",
    "    .addGrid(als.rank, [10, 20, 30]) \\\n",
    "    .addGrid(als.maxIter, [10, 15]) \\\n",
    "    .addGrid(als.regParam, [0.01, 0.1, 0.5]) \\\n",
    "    .build()\n",
    "\n",
    "# Define evaluator\n",
    "evaluator = RegressionEvaluator(\n",
    "    metricName=\"rmse\",\n",
    "    labelCol=\"rating\",\n",
    "    predictionCol=\"prediction\"\n",
    ")\n",
    "\n",
    "# Set up cross-validation\n",
    "crossval = CrossValidator(\n",
    "    estimator=als,\n",
    "    estimatorParamMaps=paramGrid,\n",
    "    evaluator=evaluator,\n",
    "    numFolds=3\n",
    ")\n",
    "\n",
    "cv_model = crossval.fit(train_data)\n",
    "best_model = cv_model.bestModel\n",
    "\n",
    "# Print best hyperparameters\n",
    "print(f\"Лучший ранг: {best_model.rank}\")\n",
    "print(f\"Лучший параметр регуляризации: {best_model._java_obj.parent().getRegParam()}\")\n",
    "print(f\"Лучшее число итераций: {best_model._java_obj.parent().getMaxIter()}\")\n",
    "\n",
    "predictions = best_model.transform(test_data)\n",
    "\n",
    "rmse = evaluator.evaluate(predictions)\n",
    "print(f\"Root-mean-square error: {rmse}\")\n"
   ]
  },
  {
   "cell_type": "code",
   "execution_count": 8,
   "metadata": {},
   "outputs": [
    {
     "name": "stderr",
     "output_type": "stream",
     "text": [
      "24/11/26 19:10:16 WARN SparkStringUtils: Truncated the string representation of a plan since it was too large. This behavior can be adjusted by setting 'spark.sql.debug.maxToStringFields'.\n"
     ]
    },
    {
     "name": "stdout",
     "output_type": "stream",
     "text": [
      "+--------------------------------------------------------------+------+\n",
      "|features                                                      |rating|\n",
      "+--------------------------------------------------------------+------+\n",
      "|(20,[0,1,2,7,9],[3.377946615219116,413.0,1.0,1.0,1.0])        |1     |\n",
      "|(20,[0,1,6,7],[4.271738052368164,241.0,1.0,1.0])              |5     |\n",
      "|(20,[0,1,2,3,16,17],[3.540034055709839,151.0,1.0,1.0,1.0,1.0])|4     |\n",
      "|(20,[0,1,2,3,6,15],[4.324306964874268,324.0,1.0,1.0,1.0,1.0]) |5     |\n",
      "|(20,[0,1,4,6],[3.9470107555389404,66.0,1.0,1.0])              |4     |\n",
      "+--------------------------------------------------------------+------+\n",
      "only showing top 5 rows\n",
      "\n"
     ]
    }
   ],
   "source": [
    "# Объединение предсказаний ALS с данными о фильмах\n",
    "predictions_with_content = best_model.transform(normalized_ratings).join(movies, on=\"movieId\", how=\"left\")\n",
    "\n",
    "# Добавим популярность фильмов\n",
    "movie_popularity = ratings.groupBy(\"movieId\").count().withColumnRenamed(\"count\", \"popularity\")\n",
    "predictions_with_content = predictions_with_content.join(movie_popularity, on=\"movieId\", how=\"left\")\n",
    "\n",
    "# Создаем финальный набор данных\n",
    "feature_columns = [\n",
    "    \"prediction\", \"popularity\", \"Action\", \"Adventure\", \"Animation\", \"Children's\", \"Comedy\",\n",
    "    \"Crime\", \"Documentary\", \"Drama\", \"Fantasy\", \"Film-Noir\", \"Horror\", \"Musical\",\n",
    "    \"Mystery\", \"Romance\", \"Sci-Fi\", \"Thriller\", \"War\", \"Western\"\n",
    "]\n",
    "\n",
    "# Собираем все признаки в вектор\n",
    "from pyspark.ml.feature import VectorAssembler\n",
    "assembler = VectorAssembler(inputCols=feature_columns, outputCol=\"features\")\n",
    "final_data = assembler.transform(predictions_with_content)\n",
    "\n",
    "# Проверяем финальную структуру\n",
    "final_data.select(\"features\", \"rating\").show(5, truncate=False)\n"
   ]
  },
  {
   "cell_type": "code",
   "execution_count": 9,
   "metadata": {},
   "outputs": [
    {
     "name": "stdout",
     "output_type": "stream",
     "text": [
      "[LightGBM] [Info] Auto-choosing row-wise multi-threading, the overhead of testing was 0.003864 seconds.\n",
      "You can set `force_row_wise=true` to remove the overhead.\n",
      "And if memory is not enough, you can set `force_col_wise=true`.\n",
      "[LightGBM] [Info] Total Bins 528\n",
      "[LightGBM] [Info] Number of data points in the train set: 79429, number of used features: 20\n",
      "[LightGBM] [Info] Start training from score 3.534893\n",
      "RMSE для гибридной модели: 0.666701203264879\n"
     ]
    }
   ],
   "source": [
    "from pyspark.sql.functions import col\n",
    "from sklearn.model_selection import train_test_split\n",
    "from lightgbm import LGBMRegressor\n",
    "from sklearn.metrics import mean_squared_error\n",
    "import numpy as np\n",
    "\n",
    "# Преобразуем данные в pandas\n",
    "final_data_pd = final_data.select(\"features\", \"rating\").toPandas()\n",
    "\n",
    "# Разделяем на X и y\n",
    "X = np.vstack(final_data_pd[\"features\"].values)\n",
    "y = final_data_pd[\"rating\"].values\n",
    "\n",
    "# Разделение на train/test\n",
    "X_train, X_test, y_train, y_test = train_test_split(X, y, test_size=0.2, random_state=42)\n",
    "\n",
    "# Обучение LightGBM\n",
    "model = LGBMRegressor()\n",
    "model.fit(X_train, y_train)\n",
    "\n",
    "# Предсказания и оценка\n",
    "y_pred = model.predict(X_test)\n",
    "rmse = np.sqrt(mean_squared_error(y_test, y_pred))\n",
    "print(f\"RMSE для гибридной модели: {rmse}\")\n"
   ]
  },
  {
   "cell_type": "code",
   "execution_count": 10,
   "metadata": {},
   "outputs": [
    {
     "name": "stdout",
     "output_type": "stream",
     "text": [
      "Топ-10 фильмов для пользователя:\n",
      "                                              features  movieId  \\\n",
      "78   (4.836489677429199, 243.0, 0.0, 0.0, 0.0, 0.0,...      483   \n",
      "81   (4.72000789642334, 413.0, 1.0, 0.0, 0.0, 0.0, ...      127   \n",
      "29   (4.753217697143555, 283.0, 0.0, 0.0, 0.0, 0.0,...       64   \n",
      "94   (4.767781734466553, 264.0, 0.0, 0.0, 0.0, 0.0,...      357   \n",
      "5    (4.60173225402832, 508.0, 0.0, 0.0, 0.0, 0.0, ...      100   \n",
      "117  (4.664138317108154, 125.0, 0.0, 0.0, 0.0, 0.0,...      178   \n",
      "108  (4.6776580810546875, 179.0, 0.0, 0.0, 0.0, 0.0...      480   \n",
      "83   (4.628182411193848, 390.0, 0.0, 0.0, 0.0, 0.0,...       98   \n",
      "120  (4.716010570526123, 198.0, 0.0, 0.0, 0.0, 0.0,...      134   \n",
      "40   (4.65696907043457, 152.0, 1.0, 1.0, 0.0, 0.0, ...      498   \n",
      "\n",
      "     predicted_rating  \n",
      "78           4.923915  \n",
      "81           4.914065  \n",
      "29           4.903428  \n",
      "94           4.892967  \n",
      "5            4.884192  \n",
      "117          4.874994  \n",
      "108          4.866599  \n",
      "83           4.865920  \n",
      "120          4.864262  \n",
      "40           4.851690  \n"
     ]
    }
   ],
   "source": [
    "# Тестовые данные для конкретного пользователя\n",
    "test_user = 10\n",
    "user_data = final_data.filter(col(\"userId\") == test_user).select(\"features\", \"movieId\")\n",
    "\n",
    "# Предсказания гибридной модели\n",
    "user_data_pd = user_data.toPandas()\n",
    "X_user = np.vstack(user_data_pd[\"features\"].values)\n",
    "predicted_ratings = model.predict(X_user)\n",
    "\n",
    "# Сортировка фильмов по предсказанному рейтингу\n",
    "recommendations = user_data_pd.copy()\n",
    "recommendations[\"predicted_rating\"] = predicted_ratings\n",
    "recommendations = recommendations.sort_values(by=\"predicted_rating\", ascending=False)\n",
    "\n",
    "print(\"Топ-10 фильмов для пользователя:\")\n",
    "print(recommendations.head(10))\n"
   ]
  },
  {
   "cell_type": "code",
   "execution_count": 11,
   "metadata": {},
   "outputs": [
    {
     "name": "stderr",
     "output_type": "stream",
     "text": [
      "                                                                                \r"
     ]
    },
    {
     "name": "stdout",
     "output_type": "stream",
     "text": [
      "+------+---------------------------------------------------------------------------------------------------------------------------------------------------------------------------------+\n",
      "|userId|recommendations                                                                                                                                                                  |\n",
      "+------+---------------------------------------------------------------------------------------------------------------------------------------------------------------------------------+\n",
      "|1     |[{169, 4.942462}, {408, 4.8926034}, {1449, 4.823004}, {50, 4.7937336}, {56, 4.7381635}, {1142, 4.726892}, {89, 4.7018657}, {285, 4.691173}, {127, 4.68933}, {963, 4.6632724}]    |\n",
      "|3     |[{320, 4.490426}, {1143, 4.1743}, {902, 4.171051}, {634, 4.093288}, {347, 4.061003}, {180, 4.0443606}, {346, 4.028964}, {340, 4.003672}, {205, 3.9212186}, {187, 3.882751}]      |\n",
      "|5     |[{169, 4.6475086}, {430, 4.3971024}, {408, 4.3383975}, {434, 4.331789}, {173, 4.2701163}, {172, 4.2669716}, {100, 4.247678}, {1143, 4.234155}, {134, 4.2215652}, {50, 4.21897}]  |\n",
      "|6     |[{641, 4.6321974}, {525, 4.475376}, {474, 4.456407}, {493, 4.4388704}, {479, 4.434328}, {1449, 4.3955317}, {603, 4.334665}, {483, 4.3311515}, {519, 4.3251877}, {657, 4.3198843}]|\n",
      "|9     |[{1169, 5.241234}, {127, 5.060709}, {481, 5.012447}, {588, 4.9936347}, {1012, 4.932782}, {641, 4.9167113}, {1, 4.905365}, {189, 4.844068}, {430, 4.8435626}, {192, 4.814778}]    |\n",
      "+------+---------------------------------------------------------------------------------------------------------------------------------------------------------------------------------+\n",
      "only showing top 5 rows\n",
      "\n"
     ]
    },
    {
     "name": "stderr",
     "output_type": "stream",
     "text": [
      "[Stage 7586:===============================>                     (60 + 8) / 100]\r"
     ]
    },
    {
     "name": "stdout",
     "output_type": "stream",
     "text": [
      "+-------+---------------------------------------------------------------------------------------------------------------------------------------------------------------------------------+\n",
      "|movieId|recommendations                                                                                                                                                                  |\n",
      "+-------+---------------------------------------------------------------------------------------------------------------------------------------------------------------------------------+\n",
      "|1      |[{810, 5.160222}, {688, 5.0254846}, {357, 5.0184965}, {850, 4.954297}, {849, 4.942036}, {939, 4.920076}, {9, 4.905365}, {173, 4.884948}, {324, 4.8621187}, {477, 4.8317237}]     |\n",
      "|3      |[{366, 4.46803}, {324, 4.3048806}, {137, 4.2472157}, {332, 4.180016}, {677, 4.1679173}, {372, 4.1348}, {859, 4.1266055}, {777, 4.108748}, {628, 4.1043367}, {472, 4.1040664}]    |\n",
      "|5      |[{688, 4.6776476}, {849, 4.5631094}, {907, 4.5048485}, {462, 4.4651237}, {507, 4.438378}, {810, 4.3782444}, {152, 4.367882}, {939, 4.3448586}, {372, 4.299163}, {261, 4.2776446}]|\n",
      "|6      |[{180, 4.786095}, {770, 4.721784}, {257, 4.6288176}, {503, 4.468871}, {4, 4.4386234}, {349, 4.427405}, {250, 4.3983703}, {842, 4.3940773}, {590, 4.3676133}, {115, 4.3605924}]   |\n",
      "|12     |[{697, 5.375341}, {118, 5.291671}, {810, 5.268092}, {173, 5.2575526}, {688, 5.235815}, {472, 5.2174406}, {16, 5.209969}, {907, 5.1909704}, {287, 5.145871}, {369, 5.1401134}]    |\n",
      "+-------+---------------------------------------------------------------------------------------------------------------------------------------------------------------------------------+\n",
      "only showing top 5 rows\n",
      "\n"
     ]
    },
    {
     "name": "stderr",
     "output_type": "stream",
     "text": [
      "                                                                                \r"
     ]
    }
   ],
   "source": [
    "# Generate top recommendations for each user\n",
    "user_recs = best_model.recommendForAllUsers(10)\n",
    "user_recs.show(5, truncate=False)\n",
    "\n",
    "# Generate top recommendations for each movie\n",
    "movie_recs = best_model.recommendForAllItems(10)\n",
    "movie_recs.show(5, truncate=False)"
   ]
  }
 ],
 "metadata": {
  "kernelspec": {
   "display_name": "Python 3",
   "language": "python",
   "name": "python3"
  },
  "language_info": {
   "codemirror_mode": {
    "name": "ipython",
    "version": 3
   },
   "file_extension": ".py",
   "mimetype": "text/x-python",
   "name": "python",
   "nbconvert_exporter": "python",
   "pygments_lexer": "ipython3",
   "version": "3.11.9"
  }
 },
 "nbformat": 4,
 "nbformat_minor": 2
}
