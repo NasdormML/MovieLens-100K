{
 "cells": [
  {
   "cell_type": "code",
   "execution_count": 5,
   "metadata": {},
   "outputs": [],
   "source": [
    "from pyspark.sql import SparkSession\n",
    "from pyspark.ml.evaluation import RegressionEvaluator\n",
    "from pyspark.ml.recommendation import ALS\n",
    "from pyspark.ml.tuning import ParamGridBuilder, CrossValidator\n",
    "from pyspark.sql.functions import col, exp, lit\n",
    "from pyspark.sql.types import IntegerType\n"
   ]
  },
  {
   "cell_type": "code",
   "execution_count": 6,
   "metadata": {},
   "outputs": [],
   "source": [
    "spark = SparkSession.builder.appName(\"MovieLensALS\").getOrCreate()\n",
    "\n",
    "data_path = '../data/ml-100k/u.data'\n",
    "columns = [\"userId\", \"movieId\", \"rating\", \"timestamp\"]\n",
    "ratings = spark.read.csv(data_path, sep=\"\\t\", inferSchema=True).toDF(*columns)\n",
    "\n",
    "ratings = ratings.withColumn(\"userId\", col(\"userId\").cast(IntegerType()))\n",
    "ratings = ratings.withColumn(\"movieId\", col(\"movieId\").cast(IntegerType()))\n",
    "\n",
    "max_timestamp = ratings.agg({'timestamp': 'max'}).collect()[0][0]\n",
    "ratings = ratings.withColumn('weight', exp(-(lit(max_timestamp) - col('timestamp')) / lit(10**6)))"
   ]
  },
  {
   "cell_type": "code",
   "execution_count": 7,
   "metadata": {},
   "outputs": [
    {
     "name": "stdout",
     "output_type": "stream",
     "text": [
      "+------+-----+\n",
      "|userId|count|\n",
      "+------+-----+\n",
      "|   405|  737|\n",
      "|   655|  685|\n",
      "|    13|  636|\n",
      "|   450|  540|\n",
      "|   276|  518|\n",
      "+------+-----+\n",
      "only showing top 5 rows\n",
      "\n",
      "+-------+-----+\n",
      "|movieId|count|\n",
      "+-------+-----+\n",
      "|     50|  583|\n",
      "|    258|  509|\n",
      "|    100|  508|\n",
      "|    181|  507|\n",
      "|    294|  485|\n",
      "+-------+-----+\n",
      "only showing top 5 rows\n",
      "\n",
      "Количество записей после фильтрации: 99287\n",
      "+-------+------+------+---------+--------------------+\n",
      "|movieId|userId|rating|timestamp|              weight|\n",
      "+-------+------+------+---------+--------------------+\n",
      "|    242|   196|     3|881250949|5.928798377342577E-6|\n",
      "|    302|   186|     3|891717742| 0.20827499106941064|\n",
      "|    377|    22|     1|878887116|5.576568655535087E-7|\n",
      "|     51|   244|     2|880606923|3.113649646606838E-6|\n",
      "|    346|   166|     1|886397596|0.001018889469706...|\n",
      "+-------+------+------+---------+--------------------+\n",
      "only showing top 5 rows\n",
      "\n"
     ]
    }
   ],
   "source": [
    "user_activity = ratings.groupBy(\"userId\").count()\n",
    "user_activity.orderBy(\"count\", ascending=False).show(5)\n",
    "\n",
    "movie_popularity = ratings.groupBy(\"movieId\").count()\n",
    "movie_popularity.orderBy(\"count\", ascending=False).show(5)\n",
    "\n",
    "\n",
    "active_users = user_activity.filter(col(\"count\") >= 5).select(\"userId\")\n",
    "filtered_ratings = ratings.join(active_users, on=\"userId\", how=\"inner\")\n",
    "\n",
    "popular_movies = movie_popularity.filter(col(\"count\") >= 5).select(\"movieId\")\n",
    "filtered_ratings = filtered_ratings.join(popular_movies, on=\"movieId\", how=\"inner\")\n",
    "\n",
    "\n",
    "print(f\"Количество записей после фильтрации: {filtered_ratings.count()}\")\n",
    "filtered_ratings.show(5)\n",
    "\n"
   ]
  },
  {
   "cell_type": "code",
   "execution_count": 8,
   "metadata": {},
   "outputs": [],
   "source": [
    "avg_ratings = filtered_ratings.groupBy(\"userId\").avg(\"rating\").withColumnRenamed(\"avg(rating)\", \"avg_user_rating\")\n",
    "normalized_ratings = filtered_ratings.join(avg_ratings, on=\"userId\")\n",
    "normalized_ratings = normalized_ratings.withColumn(\"normalized_rating\", col(\"rating\") - col(\"avg_user_rating\"))\n"
   ]
  },
  {
   "cell_type": "code",
   "execution_count": 13,
   "metadata": {},
   "outputs": [
    {
     "name": "stderr",
     "output_type": "stream",
     "text": [
      "24/11/25 17:34:00 WARN CacheManager: Asked to cache already cached data.\n",
      "24/11/25 17:34:00 WARN CacheManager: Asked to cache already cached data.\n"
     ]
    },
    {
     "name": "stdout",
     "output_type": "stream",
     "text": [
      "Лучший ранг: 30\n",
      "Лучший параметр регуляризации: 0.1\n",
      "Лучшее число итераций: 15\n",
      "Root-mean-square error: 0.9152761522573798\n"
     ]
    }
   ],
   "source": [
    "from pyspark.ml.tuning import ParamGridBuilder, CrossValidator\n",
    "from pyspark.ml.evaluation import RegressionEvaluator\n",
    "\n",
    "# Split data into training and testing sets\n",
    "(train_data, test_data) = normalized_ratings.randomSplit([0.8, 0.2], seed=42)\n",
    "\n",
    "# Build ALS model\n",
    "als = ALS(\n",
    "    userCol=\"userId\",\n",
    "    itemCol=\"movieId\",\n",
    "    ratingCol=\"rating\",\n",
    "    coldStartStrategy=\"drop\"\n",
    ")\n",
    "\n",
    "# Define parameter grid for hyperparameter tuning\n",
    "paramGrid = ParamGridBuilder() \\\n",
    "    .addGrid(als.rank, [10, 20, 30]) \\\n",
    "    .addGrid(als.maxIter, [10, 15]) \\\n",
    "    .addGrid(als.regParam, [0.01, 0.1, 0.5]) \\\n",
    "    .build()\n",
    "\n",
    "# Define evaluator\n",
    "evaluator = RegressionEvaluator(\n",
    "    metricName=\"rmse\",\n",
    "    labelCol=\"rating\",\n",
    "    predictionCol=\"prediction\"\n",
    ")\n",
    "\n",
    "# Set up cross-validation\n",
    "crossval = CrossValidator(\n",
    "    estimator=als,\n",
    "    estimatorParamMaps=paramGrid,\n",
    "    evaluator=evaluator,\n",
    "    numFolds=3\n",
    ")\n",
    "\n",
    "cv_model = crossval.fit(train_data)\n",
    "best_model = cv_model.bestModel\n",
    "\n",
    "# Print best hyperparameters\n",
    "print(f\"Лучший ранг: {best_model.rank}\")\n",
    "print(f\"Лучший параметр регуляризации: {best_model._java_obj.parent().getRegParam()}\")\n",
    "print(f\"Лучшее число итераций: {best_model._java_obj.parent().getMaxIter()}\")\n",
    "\n",
    "predictions = best_model.transform(test_data)\n",
    "\n",
    "rmse = evaluator.evaluate(predictions)\n",
    "print(f\"Root-mean-square error: {rmse}\")\n"
   ]
  },
  {
   "cell_type": "code",
   "execution_count": 14,
   "metadata": {},
   "outputs": [
    {
     "name": "stderr",
     "output_type": "stream",
     "text": [
      "                                                                                \r"
     ]
    },
    {
     "name": "stdout",
     "output_type": "stream",
     "text": [
      "+------+---------------------------------------------------------------------------------------------------------------------------------------------------------------------------------+\n",
      "|userId|recommendations                                                                                                                                                                  |\n",
      "+------+---------------------------------------------------------------------------------------------------------------------------------------------------------------------------------+\n",
      "|1     |[{1449, 4.967152}, {169, 4.859849}, {1142, 4.8272376}, {408, 4.8224764}, {694, 4.772437}, {127, 4.751755}, {647, 4.7067604}, {50, 4.6776357}, {963, 4.677509}, {114, 4.6643744}] |\n",
      "|3     |[{320, 4.569999}, {902, 4.5201254}, {1143, 4.1284337}, {205, 4.123393}, {346, 4.066987}, {50, 4.0470595}, {430, 3.9978406}, {172, 3.995446}, {347, 3.9828742}, {340, 3.9738388}] |\n",
      "|5     |[{169, 4.599252}, {408, 4.5115423}, {968, 4.35653}, {430, 4.345328}, {434, 4.2694182}, {1449, 4.25075}, {173, 4.2156672}, {251, 4.1965384}, {134, 4.195823}, {1388, 4.193236}]   |\n",
      "|6     |[{641, 4.5463414}, {493, 4.4448075}, {1449, 4.4391203}, {474, 4.4366746}, {525, 4.391409}, {178, 4.345186}, {479, 4.3159647}, {603, 4.3072367}, {528, 4.2928843}, {134, 4.27318}]|\n",
      "|9     |[{1169, 5.0512137}, {56, 4.894169}, {481, 4.816541}, {127, 4.7625346}, {320, 4.7176933}, {50, 4.708782}, {357, 4.686473}, {201, 4.6747985}, {603, 4.649419}, {168, 4.644409}]    |\n",
      "+------+---------------------------------------------------------------------------------------------------------------------------------------------------------------------------------+\n",
      "only showing top 5 rows\n",
      "\n"
     ]
    },
    {
     "name": "stderr",
     "output_type": "stream",
     "text": [
      "[Stage 12039:=================================>                  (65 + 8) / 100]\r"
     ]
    },
    {
     "name": "stdout",
     "output_type": "stream",
     "text": [
      "+-------+--------------------------------------------------------------------------------------------------------------------------------------------------------------------------------+\n",
      "|movieId|recommendations                                                                                                                                                                 |\n",
      "+-------+--------------------------------------------------------------------------------------------------------------------------------------------------------------------------------+\n",
      "|1      |[{357, 5.046687}, {688, 5.042293}, {849, 5.017312}, {850, 4.9840903}, {810, 4.9291167}, {324, 4.8674173}, {939, 4.85382}, {173, 4.844843}, {16, 4.822598}, {477, 4.7336397}]    |\n",
      "|3      |[{472, 4.249589}, {332, 4.2368336}, {887, 4.2352324}, {628, 4.2272534}, {388, 4.222994}, {849, 4.1835136}, {372, 4.1828985}, {863, 4.164849}, {348, 4.154648}, {130, 4.1510344}]|\n",
      "|5      |[{688, 4.715366}, {849, 4.562317}, {462, 4.546496}, {907, 4.5216517}, {507, 4.4800086}, {939, 4.336513}, {546, 4.299143}, {589, 4.269109}, {810, 4.2300835}, {152, 4.2237506}]  |\n",
      "|6      |[{257, 4.78611}, {366, 4.4895225}, {4, 4.467645}, {503, 4.4048524}, {770, 4.3957863}, {590, 4.393615}, {59, 4.3583555}, {440, 4.3466105}, {250, 4.321589}, {115, 4.3193245}]    |\n",
      "|12     |[{697, 5.306451}, {16, 5.2359304}, {688, 5.2331886}, {118, 5.19798}, {287, 5.1926417}, {758, 5.165898}, {274, 5.152374}, {907, 5.1446853}, {808, 5.143912}, {173, 5.1128697}]   |\n",
      "+-------+--------------------------------------------------------------------------------------------------------------------------------------------------------------------------------+\n",
      "only showing top 5 rows\n",
      "\n"
     ]
    },
    {
     "name": "stderr",
     "output_type": "stream",
     "text": [
      "                                                                                \r"
     ]
    }
   ],
   "source": [
    "# Generate top recommendations for each user\n",
    "user_recs = best_model.recommendForAllUsers(10)\n",
    "user_recs.show(5, truncate=False)\n",
    "\n",
    "# Generate top recommendations for each movie\n",
    "movie_recs = best_model.recommendForAllItems(10)\n",
    "movie_recs.show(5, truncate=False)"
   ]
  }
 ],
 "metadata": {
  "kernelspec": {
   "display_name": "Python 3",
   "language": "python",
   "name": "python3"
  },
  "language_info": {
   "codemirror_mode": {
    "name": "ipython",
    "version": 3
   },
   "file_extension": ".py",
   "mimetype": "text/x-python",
   "name": "python",
   "nbconvert_exporter": "python",
   "pygments_lexer": "ipython3",
   "version": "3.11.9"
  }
 },
 "nbformat": 4,
 "nbformat_minor": 2
}
