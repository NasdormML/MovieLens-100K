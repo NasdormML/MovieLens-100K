{
 "cells": [
  {
   "cell_type": "code",
   "execution_count": 1,
   "metadata": {},
   "outputs": [],
   "source": [
    "from pyspark.sql import SparkSession\n",
    "from pyspark.ml.evaluation import RegressionEvaluator\n",
    "from pyspark.ml.recommendation import ALS\n",
    "from pyspark.sql.functions import col\n",
    "from pyspark.sql.types import IntegerType\n"
   ]
  },
  {
   "cell_type": "code",
   "execution_count": 2,
   "metadata": {},
   "outputs": [
    {
     "name": "stderr",
     "output_type": "stream",
     "text": [
      "24/11/25 13:59:50 WARN Utils: Your hostname, MacBook-Air-Nasdorm.local resolves to a loopback address: 127.0.0.1; using 192.168.93.71 instead (on interface en0)\n",
      "24/11/25 13:59:50 WARN Utils: Set SPARK_LOCAL_IP if you need to bind to another address\n",
      "Setting default log level to \"WARN\".\n",
      "To adjust logging level use sc.setLogLevel(newLevel). For SparkR, use setLogLevel(newLevel).\n",
      "24/11/25 13:59:50 WARN NativeCodeLoader: Unable to load native-hadoop library for your platform... using builtin-java classes where applicable\n"
     ]
    }
   ],
   "source": [
    "spark = SparkSession.builder.appName(\"MovieLensALS\").getOrCreate()\n",
    "\n",
    "data_path = '../data/ml-100k/u.data'\n",
    "columns = [\"userId\", \"movieId\", \"rating\", \"timestamp\"]\n",
    "ratings = spark.read.csv(data_path, sep=\"\\t\", inferSchema=True).toDF(*columns)\n",
    "\n",
    "ratings = ratings.withColumn(\"userId\", col(\"userId\").cast(IntegerType()))\n",
    "ratings = ratings.withColumn(\"movieId\", col(\"movieId\").cast(IntegerType()))\n"
   ]
  },
  {
   "cell_type": "code",
   "execution_count": 3,
   "metadata": {},
   "outputs": [
    {
     "name": "stdout",
     "output_type": "stream",
     "text": [
      "+------+-----+\n",
      "|userId|count|\n",
      "+------+-----+\n",
      "|   405|  737|\n",
      "|   655|  685|\n",
      "|    13|  636|\n",
      "|   450|  540|\n",
      "|   276|  518|\n",
      "+------+-----+\n",
      "only showing top 5 rows\n",
      "\n",
      "+-------+-----+\n",
      "|movieId|count|\n",
      "+-------+-----+\n",
      "|     50|  583|\n",
      "|    258|  509|\n",
      "|    100|  508|\n",
      "|    181|  507|\n",
      "|    294|  485|\n",
      "+-------+-----+\n",
      "only showing top 5 rows\n",
      "\n",
      "Количество записей после фильтрации: 99287\n",
      "+-------+------+------+---------+\n",
      "|movieId|userId|rating|timestamp|\n",
      "+-------+------+------+---------+\n",
      "|    242|   196|     3|881250949|\n",
      "|    302|   186|     3|891717742|\n",
      "|    377|    22|     1|878887116|\n",
      "|     51|   244|     2|880606923|\n",
      "|    346|   166|     1|886397596|\n",
      "+-------+------+------+---------+\n",
      "only showing top 5 rows\n",
      "\n"
     ]
    }
   ],
   "source": [
    "user_activity = ratings.groupBy(\"userId\").count()\n",
    "user_activity.orderBy(\"count\", ascending=False).show(5)\n",
    "\n",
    "movie_popularity = ratings.groupBy(\"movieId\").count()\n",
    "movie_popularity.orderBy(\"count\", ascending=False).show(5)\n",
    "\n",
    "\n",
    "active_users = user_activity.filter(col(\"count\") >= 5).select(\"userId\")\n",
    "filtered_ratings = ratings.join(active_users, on=\"userId\", how=\"inner\")\n",
    "\n",
    "popular_movies = movie_popularity.filter(col(\"count\") >= 5).select(\"movieId\")\n",
    "filtered_ratings = filtered_ratings.join(popular_movies, on=\"movieId\", how=\"inner\")\n",
    "\n",
    "\n",
    "print(f\"Количество записей после фильтрации: {filtered_ratings.count()}\")\n",
    "filtered_ratings.show(5)\n",
    "\n"
   ]
  },
  {
   "cell_type": "code",
   "execution_count": 4,
   "metadata": {},
   "outputs": [],
   "source": [
    "avg_ratings = filtered_ratings.groupBy(\"userId\").avg(\"rating\").withColumnRenamed(\"avg(rating)\", \"avg_user_rating\")\n",
    "normalized_ratings = filtered_ratings.join(avg_ratings, on=\"userId\")\n",
    "normalized_ratings = normalized_ratings.withColumn(\"normalized_rating\", col(\"rating\") - col(\"avg_user_rating\"))\n"
   ]
  },
  {
   "cell_type": "code",
   "execution_count": 5,
   "metadata": {},
   "outputs": [
    {
     "name": "stderr",
     "output_type": "stream",
     "text": [
      "24/11/25 13:59:58 WARN InstanceBuilder: Failed to load implementation from:dev.ludovic.netlib.blas.JNIBLAS\n",
      "24/11/25 13:59:58 WARN InstanceBuilder: Failed to load implementation from:dev.ludovic.netlib.blas.VectorBLAS\n",
      "24/11/25 13:59:58 WARN InstanceBuilder: Failed to load implementation from:dev.ludovic.netlib.lapack.JNILAPACK\n"
     ]
    },
    {
     "name": "stdout",
     "output_type": "stream",
     "text": [
      "Root-mean-square error: 0.9147557331634427\n"
     ]
    }
   ],
   "source": [
    "# Split data into training and testing sets\n",
    "(train_data, test_data) = normalized_ratings.randomSplit([0.8, 0.2], seed=42)\n",
    "\n",
    "# Build ALS model\n",
    "als = ALS(\n",
    "    maxIter=10,\n",
    "    regParam=0.1,\n",
    "    userCol=\"userId\",\n",
    "    itemCol=\"movieId\",\n",
    "    ratingCol=\"rating\",\n",
    "    coldStartStrategy=\"drop\" \n",
    ")\n",
    "model = als.fit(train_data)\n",
    "\n",
    "# Evaluate the model\n",
    "predictions = model.transform(test_data)\n",
    "evaluator = RegressionEvaluator(\n",
    "    metricName=\"rmse\",\n",
    "    labelCol=\"rating\",\n",
    "    predictionCol=\"prediction\"\n",
    ")\n",
    "rmse = evaluator.evaluate(predictions)\n",
    "print(f\"Root-mean-square error: {rmse}\")\n"
   ]
  },
  {
   "cell_type": "code",
   "execution_count": 6,
   "metadata": {},
   "outputs": [
    {
     "name": "stderr",
     "output_type": "stream",
     "text": [
      "                                                                                \r"
     ]
    },
    {
     "name": "stdout",
     "output_type": "stream",
     "text": [
      "+------+-----------------------------------------------------------------------------------------------------------------------------------------------------------------------------------+\n",
      "|userId|recommendations                                                                                                                                                                    |\n",
      "+------+-----------------------------------------------------------------------------------------------------------------------------------------------------------------------------------+\n",
      "|1     |[{1449, 5.1250315}, {169, 4.7479334}, {100, 4.6667585}, {89, 4.6557856}, {408, 4.6466265}, {483, 4.6421537}, {1240, 4.635898}, {178, 4.6087627}, {50, 4.6071877}, {513, 4.6006184}]|\n",
      "|3     |[{1143, 4.5634527}, {641, 4.5434794}, {902, 4.301408}, {320, 4.2987423}, {50, 4.274526}, {205, 4.1952877}, {187, 4.1595035}, {127, 4.135337}, {1142, 4.08389}, {172, 4.0836616}]   |\n",
      "|5     |[{115, 4.4412465}, {434, 4.2793055}, {1143, 4.253971}, {173, 4.2401843}, {430, 4.1813416}, {641, 4.1602554}, {168, 4.148445}, {1404, 4.139738}, {1169, 4.1377225}, {169, 4.122144}]|\n",
      "|6     |[{641, 4.512433}, {1449, 4.3992825}, {1405, 4.356011}, {525, 4.3487086}, {1142, 4.343609}, {483, 4.331087}, {134, 4.326923}, {488, 4.321947}, {474, 4.3203416}, {479, 4.3131638}]  |\n",
      "|9     |[{1169, 5.377245}, {915, 5.174988}, {634, 5.167188}, {481, 5.014052}, {502, 4.983308}, {612, 4.9201946}, {132, 4.893602}, {430, 4.883215}, {1251, 4.882392}, {134, 4.8584266}]     |\n",
      "+------+-----------------------------------------------------------------------------------------------------------------------------------------------------------------------------------+\n",
      "only showing top 5 rows\n",
      "\n"
     ]
    },
    {
     "name": "stderr",
     "output_type": "stream",
     "text": [
      "[Stage 232:=======================================>              (73 + 8) / 100]\r"
     ]
    },
    {
     "name": "stdout",
     "output_type": "stream",
     "text": [
      "+-------+-------------------------------------------------------------------------------------------------------------------------------------------------------------------------------+\n",
      "|movieId|recommendations                                                                                                                                                                |\n",
      "+-------+-------------------------------------------------------------------------------------------------------------------------------------------------------------------------------+\n",
      "|1      |[{810, 5.379319}, {357, 5.0077295}, {849, 5.006954}, {507, 4.9135175}, {477, 4.852283}, {261, 4.8506227}, {850, 4.820545}, {688, 4.7923512}, {534, 4.760875}, {152, 4.754964}] |\n",
      "|3      |[{688, 4.4121485}, {143, 4.410615}, {628, 4.339325}, {472, 4.309032}, {534, 4.2773814}, {677, 4.2552695}, {67, 4.2398486}, {507, 4.192024}, {367, 4.1742344}, {502, 4.160402}] |\n",
      "|5      |[{688, 4.769601}, {849, 4.7122188}, {462, 4.6811543}, {939, 4.4534674}, {507, 4.43304}, {907, 4.40069}, {546, 4.3883557}, {810, 4.3806996}, {403, 4.2669}, {330, 4.2522917}]   |\n",
      "|6      |[{440, 5.268469}, {75, 5.2340274}, {180, 5.117942}, {803, 4.8717628}, {257, 4.820746}, {691, 4.7532997}, {565, 4.736505}, {115, 4.678716}, {697, 4.6580997}, {4, 4.6553645}]   |\n",
      "|12     |[{118, 5.3321476}, {173, 5.271938}, {849, 5.2097774}, {16, 5.181256}, {808, 5.174497}, {810, 5.1258817}, {357, 5.0867205}, {688, 5.0772495}, {270, 5.0702963}, {640, 5.052436}]|\n",
      "+-------+-------------------------------------------------------------------------------------------------------------------------------------------------------------------------------+\n",
      "only showing top 5 rows\n",
      "\n"
     ]
    },
    {
     "name": "stderr",
     "output_type": "stream",
     "text": [
      "                                                                                \r"
     ]
    },
    {
     "name": "stderr",
     "output_type": "stream",
     "text": [
      "24/11/25 14:00:09 WARN GarbageCollectionMetrics: To enable non-built-in garbage collector(s) List(G1 Concurrent GC), users should configure it(them) to spark.eventLog.gcMetrics.youngGenerationGarbageCollectors or spark.eventLog.gcMetrics.oldGenerationGarbageCollectors\n"
     ]
    }
   ],
   "source": [
    "# Generate top recommendations for each user\n",
    "user_recs = model.recommendForAllUsers(10)\n",
    "user_recs.show(5, truncate=False)\n",
    "\n",
    "# Generate top recommendations for each movie\n",
    "movie_recs = model.recommendForAllItems(10)\n",
    "movie_recs.show(5, truncate=False)"
   ]
  }
 ],
 "metadata": {
  "kernelspec": {
   "display_name": "Python 3",
   "language": "python",
   "name": "python3"
  },
  "language_info": {
   "codemirror_mode": {
    "name": "ipython",
    "version": 3
   },
   "file_extension": ".py",
   "mimetype": "text/x-python",
   "name": "python",
   "nbconvert_exporter": "python",
   "pygments_lexer": "ipython3",
   "version": "3.11.9"
  }
 },
 "nbformat": 4,
 "nbformat_minor": 2
}
