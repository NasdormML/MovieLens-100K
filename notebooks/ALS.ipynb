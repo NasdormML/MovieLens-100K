{
 "cells": [
  {
   "cell_type": "code",
   "execution_count": 1,
   "metadata": {},
   "outputs": [],
   "source": [
    "from pyspark.sql import SparkSession\n",
    "from pyspark.ml.evaluation import RegressionEvaluator\n",
    "from pyspark.ml.recommendation import ALS\n",
    "from pyspark.sql.functions import col, exp, lit\n",
    "from pyspark.sql.types import IntegerType\n"
   ]
  },
  {
   "cell_type": "code",
   "execution_count": 2,
   "metadata": {},
   "outputs": [
    {
     "name": "stderr",
     "output_type": "stream",
     "text": [
      "24/11/25 17:27:39 WARN Utils: Your hostname, MacBook-Air-Nasdorm.local resolves to a loopback address: 127.0.0.1; using 192.168.93.71 instead (on interface en0)\n",
      "24/11/25 17:27:39 WARN Utils: Set SPARK_LOCAL_IP if you need to bind to another address\n",
      "Setting default log level to \"WARN\".\n",
      "To adjust logging level use sc.setLogLevel(newLevel). For SparkR, use setLogLevel(newLevel).\n",
      "24/11/25 17:27:39 WARN NativeCodeLoader: Unable to load native-hadoop library for your platform... using builtin-java classes where applicable\n"
     ]
    }
   ],
   "source": [
    "spark = SparkSession.builder.appName(\"MovieLensALS\").getOrCreate()\n",
    "\n",
    "data_path = '../data/ml-100k/u.data'\n",
    "columns = [\"userId\", \"movieId\", \"rating\", \"timestamp\"]\n",
    "ratings = spark.read.csv(data_path, sep=\"\\t\", inferSchema=True).toDF(*columns)\n",
    "\n",
    "ratings = ratings.withColumn(\"userId\", col(\"userId\").cast(IntegerType()))\n",
    "ratings = ratings.withColumn(\"movieId\", col(\"movieId\").cast(IntegerType()))\n",
    "\n",
    "max_timestamp = ratings.agg({'timestamp': 'max'}).collect()[0][0]\n",
    "ratings = ratings.withColumn('weight', exp(-(lit(max_timestamp) - col('timestamp')) / lit(10**6)))"
   ]
  },
  {
   "cell_type": "code",
   "execution_count": 3,
   "metadata": {},
   "outputs": [
    {
     "name": "stdout",
     "output_type": "stream",
     "text": [
      "+------+-----+\n",
      "|userId|count|\n",
      "+------+-----+\n",
      "|   405|  737|\n",
      "|   655|  685|\n",
      "|    13|  636|\n",
      "|   450|  540|\n",
      "|   276|  518|\n",
      "+------+-----+\n",
      "only showing top 5 rows\n",
      "\n",
      "+-------+-----+\n",
      "|movieId|count|\n",
      "+-------+-----+\n",
      "|     50|  583|\n",
      "|    258|  509|\n",
      "|    100|  508|\n",
      "|    181|  507|\n",
      "|    294|  485|\n",
      "+-------+-----+\n",
      "only showing top 5 rows\n",
      "\n",
      "Количество записей после фильтрации: 99287\n",
      "+-------+------+------+---------+--------------------+\n",
      "|movieId|userId|rating|timestamp|              weight|\n",
      "+-------+------+------+---------+--------------------+\n",
      "|    242|   196|     3|881250949|5.928798377342577E-6|\n",
      "|    302|   186|     3|891717742| 0.20827499106941064|\n",
      "|    377|    22|     1|878887116|5.576568655535087E-7|\n",
      "|     51|   244|     2|880606923|3.113649646606838E-6|\n",
      "|    346|   166|     1|886397596|0.001018889469706...|\n",
      "+-------+------+------+---------+--------------------+\n",
      "only showing top 5 rows\n",
      "\n"
     ]
    }
   ],
   "source": [
    "user_activity = ratings.groupBy(\"userId\").count()\n",
    "user_activity.orderBy(\"count\", ascending=False).show(5)\n",
    "\n",
    "movie_popularity = ratings.groupBy(\"movieId\").count()\n",
    "movie_popularity.orderBy(\"count\", ascending=False).show(5)\n",
    "\n",
    "\n",
    "active_users = user_activity.filter(col(\"count\") >= 5).select(\"userId\")\n",
    "filtered_ratings = ratings.join(active_users, on=\"userId\", how=\"inner\")\n",
    "\n",
    "popular_movies = movie_popularity.filter(col(\"count\") >= 5).select(\"movieId\")\n",
    "filtered_ratings = filtered_ratings.join(popular_movies, on=\"movieId\", how=\"inner\")\n",
    "\n",
    "\n",
    "print(f\"Количество записей после фильтрации: {filtered_ratings.count()}\")\n",
    "filtered_ratings.show(5)\n",
    "\n"
   ]
  },
  {
   "cell_type": "code",
   "execution_count": 4,
   "metadata": {},
   "outputs": [],
   "source": [
    "avg_ratings = filtered_ratings.groupBy(\"userId\").avg(\"rating\").withColumnRenamed(\"avg(rating)\", \"avg_user_rating\")\n",
    "normalized_ratings = filtered_ratings.join(avg_ratings, on=\"userId\")\n",
    "normalized_ratings = normalized_ratings.withColumn(\"normalized_rating\", col(\"rating\") - col(\"avg_user_rating\"))\n"
   ]
  },
  {
   "cell_type": "code",
   "execution_count": 5,
   "metadata": {},
   "outputs": [
    {
     "name": "stderr",
     "output_type": "stream",
     "text": [
      "24/11/25 17:27:47 WARN InstanceBuilder: Failed to load implementation from:dev.ludovic.netlib.blas.JNIBLAS\n",
      "24/11/25 17:27:47 WARN InstanceBuilder: Failed to load implementation from:dev.ludovic.netlib.blas.VectorBLAS\n",
      "24/11/25 17:27:47 WARN InstanceBuilder: Failed to load implementation from:dev.ludovic.netlib.lapack.JNILAPACK\n"
     ]
    },
    {
     "name": "stdout",
     "output_type": "stream",
     "text": [
      "Root-mean-square error: 0.9170891528602931\n"
     ]
    }
   ],
   "source": [
    "# Split data into training and testing sets\n",
    "(train_data, test_data) = normalized_ratings.randomSplit([0.8, 0.2], seed=42)\n",
    "\n",
    "# Build ALS model\n",
    "als = ALS(\n",
    "    maxIter=10,\n",
    "    regParam=0.1,\n",
    "    userCol=\"userId\",\n",
    "    itemCol=\"movieId\",\n",
    "    ratingCol=\"rating\",\n",
    "    coldStartStrategy=\"drop\" \n",
    ")\n",
    "model = als.fit(train_data)\n",
    "\n",
    "# Evaluate the model\n",
    "predictions = model.transform(test_data)\n",
    "evaluator = RegressionEvaluator(\n",
    "    metricName=\"rmse\",\n",
    "    labelCol=\"rating\",\n",
    "    predictionCol=\"prediction\"\n",
    ")\n",
    "rmse = evaluator.evaluate(predictions)\n",
    "print(f\"Root-mean-square error: {rmse}\")\n"
   ]
  },
  {
   "cell_type": "code",
   "execution_count": 6,
   "metadata": {},
   "outputs": [
    {
     "name": "stderr",
     "output_type": "stream",
     "text": [
      "                                                                                \r"
     ]
    },
    {
     "name": "stdout",
     "output_type": "stream",
     "text": [
      "+------+----------------------------------------------------------------------------------------------------------------------------------------------------------------------------------+\n",
      "|userId|recommendations                                                                                                                                                                   |\n",
      "+------+----------------------------------------------------------------------------------------------------------------------------------------------------------------------------------+\n",
      "|1     |[{1449, 5.018088}, {408, 4.993631}, {169, 4.863122}, {114, 4.8179073}, {1344, 4.7656116}, {50, 4.7370343}, {513, 4.734218}, {285, 4.7136936}, {127, 4.652685}, {1251, 4.644831}]  |\n",
      "|3     |[{1143, 4.684608}, {902, 4.644995}, {320, 4.6175647}, {50, 4.3271046}, {42, 4.2752905}, {172, 4.232882}, {173, 4.2081876}, {641, 4.1955733}, {1063, 4.182619}, {195, 4.139439}]   |\n",
      "|5     |[{1154, 4.645989}, {745, 4.3309865}, {169, 4.3143377}, {173, 4.305816}, {360, 4.3057313}, {1022, 4.2880845}, {434, 4.2731605}, {50, 4.272055}, {408, 4.2527585}, {430, 4.235088}] |\n",
      "|6     |[{1512, 4.52015}, {1203, 4.4995284}, {1449, 4.4959865}, {641, 4.481342}, {474, 4.4778523}, {718, 4.4279747}, {483, 4.3351088}, {525, 4.331252}, {169, 4.321031}, {513, 4.3025694}]|\n",
      "|9     |[{634, 5.5514064}, {174, 4.9819207}, {882, 4.93438}, {172, 4.9199367}, {344, 4.9194636}, {1431, 4.881996}, {884, 4.8777986}, {50, 4.8451056}, {612, 4.7824955}, {588, 4.7808824}] |\n",
      "+------+----------------------------------------------------------------------------------------------------------------------------------------------------------------------------------+\n",
      "only showing top 5 rows\n",
      "\n"
     ]
    },
    {
     "name": "stderr",
     "output_type": "stream",
     "text": [
      "[Stage 235:===========================================>          (81 + 8) / 100]\r"
     ]
    },
    {
     "name": "stdout",
     "output_type": "stream",
     "text": [
      "+-------+--------------------------------------------------------------------------------------------------------------------------------------------------------------------------------+\n",
      "|movieId|recommendations                                                                                                                                                                 |\n",
      "+-------+--------------------------------------------------------------------------------------------------------------------------------------------------------------------------------+\n",
      "|1      |[{849, 5.0578346}, {688, 4.93358}, {507, 4.92387}, {810, 4.881707}, {477, 4.878927}, {152, 4.848731}, {261, 4.8326106}, {324, 4.832352}, {850, 4.798274}, {532, 4.796868}]      |\n",
      "|3      |[{472, 4.6898985}, {434, 4.678906}, {67, 4.668692}, {127, 4.394253}, {367, 4.3927336}, {113, 4.322141}, {550, 4.3025637}, {628, 4.2602863}, {96, 4.221845}, {39, 4.219396}]     |\n",
      "|5      |[{688, 4.9568906}, {849, 4.6521316}, {507, 4.612246}, {907, 4.5653377}, {810, 4.511502}, {38, 4.4949584}, {261, 4.3957825}, {372, 4.2867846}, {388, 4.2799892}, {928, 4.260364}]|\n",
      "|6      |[{691, 4.904225}, {341, 4.6374965}, {46, 4.631906}, {78, 4.6276}, {257, 4.6184506}, {628, 4.6134195}, {770, 4.607919}, {349, 4.5950923}, {891, 4.5139647}, {355, 4.4849634}]    |\n",
      "|12     |[{118, 5.2803297}, {697, 5.2142506}, {808, 5.2027493}, {287, 5.196095}, {16, 5.1900663}, {592, 5.1760764}, {357, 5.166248}, {849, 5.165828}, {688, 5.157556}, {532, 5.1562176}] |\n",
      "+-------+--------------------------------------------------------------------------------------------------------------------------------------------------------------------------------+\n",
      "only showing top 5 rows\n",
      "\n"
     ]
    },
    {
     "name": "stderr",
     "output_type": "stream",
     "text": [
      "                                                                                \r"
     ]
    },
    {
     "name": "stderr",
     "output_type": "stream",
     "text": [
      "24/11/25 17:27:51 WARN GarbageCollectionMetrics: To enable non-built-in garbage collector(s) List(G1 Concurrent GC), users should configure it(them) to spark.eventLog.gcMetrics.youngGenerationGarbageCollectors or spark.eventLog.gcMetrics.oldGenerationGarbageCollectors\n"
     ]
    }
   ],
   "source": [
    "# Generate top recommendations for each user\n",
    "user_recs = model.recommendForAllUsers(10)\n",
    "user_recs.show(5, truncate=False)\n",
    "\n",
    "# Generate top recommendations for each movie\n",
    "movie_recs = model.recommendForAllItems(10)\n",
    "movie_recs.show(5, truncate=False)"
   ]
  }
 ],
 "metadata": {
  "kernelspec": {
   "display_name": "Python 3",
   "language": "python",
   "name": "python3"
  },
  "language_info": {
   "codemirror_mode": {
    "name": "ipython",
    "version": 3
   },
   "file_extension": ".py",
   "mimetype": "text/x-python",
   "name": "python",
   "nbconvert_exporter": "python",
   "pygments_lexer": "ipython3",
   "version": "3.11.9"
  }
 },
 "nbformat": 4,
 "nbformat_minor": 2
}
